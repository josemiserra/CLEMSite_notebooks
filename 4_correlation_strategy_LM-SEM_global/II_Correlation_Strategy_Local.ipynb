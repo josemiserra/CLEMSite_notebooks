{
 "cells": [
  {
   "cell_type": "markdown",
   "metadata": {},
   "source": [
    "\n",
    "# Correlation Strategy Part II - Local\n",
    "\n",
    "  _This Jupyter Notebook belongs to the article : **CLEMSite, a software for automated phenotypic screens using light microscopy and FIB-SEM.** Please, cite the original paper if you make use of anything present in this notebook._\n",
    "  \n",
    "  In the experimental setup presented in the article, MatTek dishes were used to automatically correlate cells from light microscopy (LM) with electron microscopy (EM). Here we present the method used to achieve that. In the Part I we developed a global transformation used to drive the microscope to the specific cell. In this step we will try to increase the accuracy going to the local region. \n",
    "  \n",
    "  \n",
    "  The common landmarks used between LM and EM, where the grid crossings, as shown in the figure here, where the orange point between the four crossing marks, is what we define as landmark:\n",
    "  <img src=\"images/grid_measures.png\" width=\"600\"/>"
   ]
  },
  {
   "cell_type": "code",
   "execution_count": null,
   "metadata": {},
   "outputs": [],
   "source": []
  }
 ],
 "metadata": {
  "kernelspec": {
   "display_name": "Python 3.7.6 64-bit ('pyto': conda)",
   "language": "python",
   "name": "python37664bitpytoconda25fee6b740ef4077908199206548b669"
  },
  "language_info": {
   "codemirror_mode": {
    "name": "ipython",
    "version": 3
   },
   "file_extension": ".py",
   "mimetype": "text/x-python",
   "name": "python",
   "nbconvert_exporter": "python",
   "pygments_lexer": "ipython3",
   "version": "3.7.6"
  }
 },
 "nbformat": 4,
 "nbformat_minor": 4
}
